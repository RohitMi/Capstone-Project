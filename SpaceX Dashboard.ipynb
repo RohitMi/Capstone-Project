{
    "cells": [
        {
            "cell_type": "code",
            "execution_count": null,
            "id": "7db5a615",
            "metadata": {},
            "outputs": [
                {
                    "name": "stdout",
                    "output_type": "stream",
                    "text": "Dash is running on http://127.0.0.1:8050/\n\n * Serving Flask app \"__main__\" (lazy loading)\n * Environment: production\n   WARNING: This is a development server. Do not use it in a production deployment.\n   Use a production WSGI server instead.\n * Debug mode: off\n"
                },
                {
                    "name": "stderr",
                    "output_type": "stream",
                    "text": " * Running on http://127.0.0.1:8050/ (Press CTRL+C to quit)\n127.0.0.1 - - [20/Nov/2021 21:34:38] \"\u001b[37mGET / HTTP/1.1\u001b[0m\" 200 -\n127.0.0.1 - - [20/Nov/2021 21:34:38] \"\u001b[37mGET /_dash-component-suites/dash_renderer/react@16.v1_9_0m1637416272.14.0.min.js HTTP/1.1\u001b[0m\" 200 -\n127.0.0.1 - - [20/Nov/2021 21:34:38] \"\u001b[37mGET /_dash-component-suites/dash_renderer/react-dom@16.v1_9_0m1637416272.14.0.min.js HTTP/1.1\u001b[0m\" 200 -\n127.0.0.1 - - [20/Nov/2021 21:34:38] \"\u001b[37mGET /_dash-component-suites/dash_renderer/prop-types@15.v1_9_0m1637416272.7.2.min.js HTTP/1.1\u001b[0m\" 200 -\n127.0.0.1 - - [20/Nov/2021 21:34:38] \"\u001b[37mGET /_dash-component-suites/dash_renderer/dash_renderer.v1_9_0m1637416272.min.js HTTP/1.1\u001b[0m\" 200 -\n127.0.0.1 - - [20/Nov/2021 21:34:38] \"\u001b[37mGET /_dash-layout HTTP/1.1\u001b[0m\" 200 -\n127.0.0.1 - - [20/Nov/2021 21:34:38] \"\u001b[37mGET /_dash-dependencies HTTP/1.1\u001b[0m\" 200 -\n127.0.0.1 - - [20/Nov/2021 21:34:40] \"\u001b[37mPOST /_dash-update-component HTTP/1.1\u001b[0m\" 200 -\n127.0.0.1 - - [20/Nov/2021 21:34:40] \"\u001b[37mPOST /_dash-update-component HTTP/1.1\u001b[0m\" 200 -\n127.0.0.1 - - [20/Nov/2021 21:35:10] \"\u001b[37mPOST /_dash-update-component HTTP/1.1\u001b[0m\" 200 -\n"
                },
                {
                    "name": "stdout",
                    "output_type": "stream",
                    "text": "Exception on /_dash-update-component [POST]\nTraceback (most recent call last):\n  File \"C:\\Users\\rohit\\anaconda3\\lib\\site-packages\\flask\\app.py\", line 2447, in wsgi_app\n    response = self.full_dispatch_request()\n  File \"C:\\Users\\rohit\\anaconda3\\lib\\site-packages\\flask\\app.py\", line 1952, in full_dispatch_request\n    rv = self.handle_user_exception(e)\n  File \"C:\\Users\\rohit\\anaconda3\\lib\\site-packages\\flask\\app.py\", line 1821, in handle_user_exception\n    reraise(exc_type, exc_value, tb)\n  File \"C:\\Users\\rohit\\anaconda3\\lib\\site-packages\\flask\\_compat.py\", line 39, in reraise\n    raise value\n  File \"C:\\Users\\rohit\\anaconda3\\lib\\site-packages\\flask\\app.py\", line 1950, in full_dispatch_request\n    rv = self.dispatch_request()\n  File \"C:\\Users\\rohit\\anaconda3\\lib\\site-packages\\flask\\app.py\", line 1936, in dispatch_request\n    return self.view_functions[rule.endpoint](**req.view_args)\n  File \"C:\\Users\\rohit\\anaconda3\\lib\\site-packages\\dash\\dash.py\", line 1078, in dispatch\n    response.set_data(func(*args, outputs_list=outputs_list))\n  File \"C:\\Users\\rohit\\anaconda3\\lib\\site-packages\\dash\\dash.py\", line 1009, in add_context\n    output_value = func(*args, **kwargs)  # %% callback invoked %%\n  File \"<ipython-input-2-354524ed5fa7>\", line 70, in get_pie\n    filtered_df = spacex_df[spacex_df['Launch Site'] == value].groupby(['Launch Site', 'class']). \\\nNameError: name 'value' is not defined\n"
                },
                {
                    "name": "stderr",
                    "output_type": "stream",
                    "text": "127.0.0.1 - - [20/Nov/2021 21:35:10] \"\u001b[35m\u001b[1mPOST /_dash-update-component HTTP/1.1\u001b[0m\" 500 -\n"
                },
                {
                    "name": "stdout",
                    "output_type": "stream",
                    "text": "Exception on /_dash-update-component [POST]\nTraceback (most recent call last):\n  File \"C:\\Users\\rohit\\anaconda3\\lib\\site-packages\\flask\\app.py\", line 2447, in wsgi_app\n    response = self.full_dispatch_request()\n  File \"C:\\Users\\rohit\\anaconda3\\lib\\site-packages\\flask\\app.py\", line 1952, in full_dispatch_request\n    rv = self.handle_user_exception(e)\n  File \"C:\\Users\\rohit\\anaconda3\\lib\\site-packages\\flask\\app.py\", line 1821, in handle_user_exception\n    reraise(exc_type, exc_value, tb)\n  File \"C:\\Users\\rohit\\anaconda3\\lib\\site-packages\\flask\\_compat.py\", line 39, in reraise\n    raise value\n  File \"C:\\Users\\rohit\\anaconda3\\lib\\site-packages\\flask\\app.py\", line 1950, in full_dispatch_request\n    rv = self.dispatch_request()\n  File \"C:\\Users\\rohit\\anaconda3\\lib\\site-packages\\flask\\app.py\", line 1936, in dispatch_request\n    return self.view_functions[rule.endpoint](**req.view_args)\n  File \"C:\\Users\\rohit\\anaconda3\\lib\\site-packages\\dash\\dash.py\", line 1078, in dispatch\n    response.set_data(func(*args, outputs_list=outputs_list))\n  File \"C:\\Users\\rohit\\anaconda3\\lib\\site-packages\\dash\\dash.py\", line 1009, in add_context\n    output_value = func(*args, **kwargs)  # %% callback invoked %%\n  File \"<ipython-input-2-354524ed5fa7>\", line 70, in get_pie\n    filtered_df = spacex_df[spacex_df['Launch Site'] == value].groupby(['Launch Site', 'class']). \\\nNameError: name 'value' is not defined\n"
                },
                {
                    "name": "stderr",
                    "output_type": "stream",
                    "text": "127.0.0.1 - - [20/Nov/2021 21:35:12] \"\u001b[35m\u001b[1mPOST /_dash-update-component HTTP/1.1\u001b[0m\" 500 -\n127.0.0.1 - - [20/Nov/2021 21:35:12] \"\u001b[37mPOST /_dash-update-component HTTP/1.1\u001b[0m\" 200 -\n"
                }
            ],
            "source": "# Import required libraries\nimport pandas as pd\nimport dash\nimport dash_html_components as html\nimport dash_core_components as dcc\nfrom dash.dependencies import Input, Output\nimport plotly.express as px\n\n# Read the airline data into pandas dataframe\nspacex_df = pd.read_csv(\"https://cf-courses-data.s3.us.cloud-object-storage.appdomain.cloud/IBM-DS0321EN-SkillsNetwork/datasets/spacex_launch_dash.csv\")\nmax_payload = spacex_df['Payload Mass (kg)'].max()\nmin_payload = spacex_df['Payload Mass (kg)'].min()\n\n# Create a dash application\napp = dash.Dash(__name__)\n\n# Create an app layout\napp.layout = html.Div(children=[html.H1('SpaceX Launch Records Dashboard',\n                                        style={'textAlign': 'center', 'color': '#503D36',\n                                               'font-size': 40}),\n                                # TASK 1: Add a dropdown list to enable Launch Site selection\n                                # The default select value is for ALL sites\n                                dcc.Dropdown( \n                                            id='site-dropdown', \n                                            options=[ \n                                                {'label': 'All Sites', 'value': 'ALL'}, \n                                                {'label': 'CCAFS LC-40', 'value': 'CCAFS LC-40'}, \n                                                {'label': 'VAFB SLC-4E', 'value': 'VAFB SLC-4E'}, \n                                                {'label': 'KSC LC-39A', 'value': 'KSC LC-39A'}, \n                                                {'label': 'CCAFS SLC-40', 'value': 'CCAFS SLC-40'},\n                                            ], \n                                            value='ALL', \n                                            placeholder=\"Select a Launch Site\", \n                                            searchable=True),\n                                html.Br(),\n\n                                # TASK 2: Add a pie chart to show the total successful launches count for all sites\n                                # If a specific launch site was selected, show the Success vs. Failed counts for the site\n                                html.Div(dcc.Graph(id='success-pie-chart')),\n                                html.Br(),\n\n                                html.P(\"Payload range (Kg):\"),\n                                # TASK 3: Add a slider to select payload range\n                                dcc.RangeSlider(id='payload-slider',\n                                min=0, max=10000, step=1000,\n                                value=[min_payload,max_payload],\n                                marks={\n                                        0: '0 kg',\n                                        2500: '2500 kg',\n                                        5000: '5000 kg',\n                                        7500: '7500 kg',\n                                        10000: '10000 kg'\n                                    }),\n\n                                # TASK 4: Add a scatter chart to show the correlation between payload and launch success\n                                html.Div(dcc.Graph(id='success-payload-scatter-chart')),\n                                ])\n\n# TASK 2:\n# Add a callback function for `site-dropdown` as input, `success-pie-chart` as output\n@app.callback(Output(component_id='success-pie-chart', component_property='figure'), \n        Input(component_id='site-dropdown', component_property='value'))\ndef get_pie(entered_site):\n    filtered_df = spacex_df\n    if entered_site == 'ALL':\n        fig = px.pie(spacex_df, values='class', names='Launch Site', title='Total Success Launches By Site')\n        return fig\n\n    else:\n        filtered_df = spacex_df[spacex_df['Launch Site'] == value].groupby(['Launch Site', 'class']). \\\n        size().reset_index(name='class count')\n        title = \"Total Success Launches for site {value}\"\n        fig = px.pie(filtered_df,values='class count', names='class', title=title)\n        return fig\nhtml.P(\"Payload Range (Kg):\"),\n\n# TASK 4:\n# Add a callback function for `site-dropdown` and `payload-slider` as inputs, `success-payload-scatter-chart` as output\nhtml.Div(dcc.Graph(id='success-payload-scatter-chart')),\n@app.callback(Output(component_id='success-payload-scatter-chart', component_property='figure'),\n        [Input(component_id='site-dropdown', component_property='value'),\n        Input(component_id='payload-slider', component_property='value')]\n        )\n\ndef get_scatter(value1,value2):\n    filtered_df2_1=spacex_df[(spacex_df['Payload Mass (kg)'] > value2[0]) & (spacex_df['Payload Mass (kg)'] < value2[1])]\n    if value1=='ALL':\n        fig= px.scatter(filtered_df2_1,x=\"Payload Mass (kg)\",y=\"class\",color=\"Booster Version Category\",\\\n        title=\"Correlation between Payload and Success for All sites\")\n        return fig\n    else:\n        filtered_df2_2=filtered_df2_1[filtered_df2_1['Launch Site']==value1]\n        fig= px.scatter(filtered_df2_2,x=\"Payload Mass (kg)\",y=\"class\",color=\"Booster Version Category\",\\\n        title=\"Correlation between Payload and Success for site {value1}\")\n        return fig\n\n\n# Run the app\nif __name__ == '__main__':\n    app.run_server()\n"
        },
        {
            "cell_type": "code",
            "execution_count": null,
            "id": "8bd1e27d",
            "metadata": {},
            "outputs": [],
            "source": ""
        }
    ],
    "metadata": {
        "kernelspec": {
            "display_name": "Python 3.8",
            "language": "python",
            "name": "python3"
        },
        "language_info": {
            "codemirror_mode": {
                "name": "ipython",
                "version": 3
            },
            "file_extension": ".py",
            "mimetype": "text/x-python",
            "name": "python",
            "nbconvert_exporter": "python",
            "pygments_lexer": "ipython3",
            "version": "3.8.12"
        }
    },
    "nbformat": 4,
    "nbformat_minor": 5
}